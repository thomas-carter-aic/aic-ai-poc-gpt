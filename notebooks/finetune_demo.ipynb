{
 "cells": [
  {
   "cell_type": "markdown",
   "metadata": {},
   "source": [
    "# Fine-Tuning Demo\n",
    "This notebook demonstrates a minimal fine-tuning loop on Free-Tier CPU for mini-GPT."
   ]
  },
  {
   "cell_type": "code",
   "metadata": {},
   "source": [
    "import torch\n",
    "from torch.utils.data import DataLoader\n",
    "from gptx.modules.model import GPTModel\n",
    "from gptx.train.loss import CausalLMLoss\n",
    "\n",
    "# Dummy dataset\n",
    "dataset = [{'input_ids': torch.randint(0, 50257, (32,))} for _ in range(4)]\n",
    "dataloader = DataLoader(dataset, batch_size=1)\n",
    "\n",
    "# Initialize model\n",
    "model = GPTModel(vocab_size=50257, d_model=128, n_layers=2, n_heads=4, max_seq_len=32)\n",
    "optimizer = torch.optim.Adam(model.parameters(), lr=1e-3)\n",
    "criterion = CausalLMLoss()\n",
    "\n",
    "# Training loop\n",
    "for epoch in range(1):\n",
    "    total_loss = 0\n",
    "    for batch in dataloader:\n",
    "        optimizer.zero_grad()\n",
    "        input_ids = torch.stack([b['input_ids'] for b in batch])\n",
    "        logits = model(input_ids)\n",
    "        loss = criterion(logits, input_ids)\n",
    "        loss.backward()\n",
    "        optimizer.step()\n",
    "        total_loss += loss.item()\n",
    "    print(f'Epoch {epoch}: Loss {total_loss:.4f}')"
   ],
   "execution_count": null,
   "outputs": []
  }
 ],
 "metadata": {"kernelspec":{"display_name":"Python 3","language":"python","name":"python3"}},
 "nbformat": 4,
 "nbformat_minor": 5
}
