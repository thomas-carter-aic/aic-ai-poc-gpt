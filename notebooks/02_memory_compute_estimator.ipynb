# Estimate Free-Tier GPU memory and compute usage
d_model = 128
n_layers = 2
seq_len = 128
batch_size = 2
vocab_size = 50257

param_count = n_layers * (d_model**2*12)  # rough estimate for demo
print("Approx parameter count:", param_count)
