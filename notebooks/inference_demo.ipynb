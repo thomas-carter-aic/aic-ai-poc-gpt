{
 "cells": [
  {
   "cell_type": "markdown",
   "metadata": {},
   "source": [
    "# Inference Demo\n",
    "Simple interactive demo of generating tokens with mini-GPT."
   ]
  },
  {
   "cell_type": "code",
   "metadata": {},
   "source": [
    "import torch\n",
    "from gptx.modules.model import GPTModel\n",
    "from gptx.utils.sampling import greedy_sample\n",
    "\n",
    "model = GPTModel(vocab_size=50257, d_model=128, n_layers=2, n_heads=4, max_seq_len=32)\n",
    "model.eval()\n",
    "\n",
    "prompt = 'Hello, world!'\n",
    "input_ids = torch.tensor([[ord(c)%50257 for c in prompt]])\n",
    "\n",
    "# Generate 16 tokens\n",
    "generated = input_ids.tolist()[0]\n",
    "for _ in range(16):\n",
    "    logits = model(torch.tensor([generated]))\n",
    "    next_token = greedy_sample(logits[:, -1, :])\n",
    "    generated.append(next_token.item())\n",
    "\n",
    "decoded = ''.join([chr(t%256) for t in generated])\n",
    "print('Generated:', decoded)"
   ],
   "execution_count": null,
   "outputs": []
  }
 ],
 "metadata": {"kernelspec":{"display_name":"Python 3","language":"python","name":"python3"}},
 "nbformat": 4,
 "nbformat_minor": 5
}
