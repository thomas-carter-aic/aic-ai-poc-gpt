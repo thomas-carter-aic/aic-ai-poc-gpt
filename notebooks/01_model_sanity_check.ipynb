# Sanity check for mini-GPT model
import torch
from gptx.modules.model import GPTModel

vocab_size = 50257
model = GPTModel(vocab_size=vocab_size, d_model=128, n_layers=2, n_heads=4, max_seq_len=128)
input_ids = torch.randint(0, vocab_size, (1, 16))
logits = model(input_ids)
print("Logits shape:", logits.shape)  # Expected: (1,16,50257)
