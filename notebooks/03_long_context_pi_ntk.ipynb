{
 "cells": [
  {
   "cell_type": "markdown",
   "metadata": {},
   "source": [
    "# Long Context & NTK Decay Demo\n",
    "This notebook demonstrates:\n",
    "- Increasing context length\n",
    "- Per-token NTK (Neural Tangent Kernel) decay estimation\n",
    "- How mini-GPT handles long sequences"
   ]
  },
  {
   "cell_type": "code",
   "metadata": {},
   "source": [
    "import torch\n",
    "from gptx.modules.model import GPTModel\n",
    "\n",
    "# Initialize mini-GPT\n",
    "model = GPTModel(vocab_size=50257, d_model=128, n_layers=2, n_heads=4, max_seq_len=128)\n",
    "model.eval()\n",
    "\n",
    "# Generate a long context input\n",
    "long_input = torch.randint(0, 50257, (1, 128))  # max_seq_len for Free-Tier demo\n",
    "\n",
    "# Forward pass\n",
    "with torch.no_grad():\n",
    "    logits = model(long_input)\n",
    "\n",
    "print('Logits shape:', logits.shape)\n",
    "\n",
    "# Simple NTK decay demo\n",
    "ntk_decay = torch.mean(torch.abs(logits[:, :-1, :] - logits[:, 1:, :]))\n",
    "print('Approx. NTK decay per token:', ntk_decay.item())"
   ],
   "execution_count": null,
   "outputs": []
  }
 ],
 "metadata": {"kernelspec":{"display_name":"Python 3","language":"python","name":"python3"}},
 "nbformat": 4,
 "nbformat_minor": 5
}
