{
 "cells": [
  {
   "cell_type": "markdown",
   "metadata": {},
   "source": [
    "# Serving Latency Tradeoffs\n",
    "This notebook benchmarks inference latency and explores trade-offs for Free-Tier CPU serving."
   ]
  },
  {
   "cell_type": "code",
   "metadata": {},
   "source": [
    "import torch\n",
    "import time\n",
    "from gptx.modules.model import GPTModel\n",
    "\n",
    "# Initialize mini-GPT\n",
    "model = GPTModel(vocab_size=50257, d_model=128, n_layers=2, n_heads=4, max_seq_len=32)\n",
    "model.eval()\n",
    "\n",
    "# Prepare dummy input\n",
    "input_ids = torch.randint(0, 50257, (1, 32))\n",
    "\n",
    "latencies = []\n",
    "for _ in range(20):\n",
    "    start = time.time()\n",
    "    _ = model(input_ids)\n",
    "    latencies.append(time.time() - start)\n",
    "\n",
    "avg_latency_ms = sum(latencies)/len(latencies) * 1000\n",
    "print(f'Average latency per forward pass: {avg_latency_ms:.2f} ms')"
   ],
   "execution_count": null,
   "outputs": []
  }
 ],
 "metadata": {"kernelspec":{"display_name":"Python 3","language":"python","name":"python3"}},
 "nbformat": 4,
 "nbformat_minor": 5
}
